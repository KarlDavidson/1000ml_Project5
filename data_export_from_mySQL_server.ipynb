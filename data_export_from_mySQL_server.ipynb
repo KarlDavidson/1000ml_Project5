{
 "cells": [
  {
   "cell_type": "markdown",
   "metadata": {},
   "source": [
    "Did you remember to run the bash script before opening up the Jupyter Notebook?\n",
    "\n",
    "`. ~/Desktop/sql_variables.sh`"
   ]
  },
  {
   "cell_type": "code",
   "execution_count": 1,
   "metadata": {},
   "outputs": [],
   "source": [
    "import pymysql\n",
    "import pandas as pd\n",
    "import os"
   ]
  },
  {
   "cell_type": "code",
   "execution_count": 2,
   "metadata": {},
   "outputs": [],
   "source": [
    "conn = pymysql.connect(host=os.environ.get('SQLHOSTID'),\n",
    "                       port=3306,\n",
    "                       user=os.environ.get('SQLUSERID'),\n",
    "                       passwd=os.environ.get('SQLPASSWORD'),\n",
    "                       db='financial')"
   ]
  },
  {
   "cell_type": "code",
   "execution_count": 3,
   "metadata": {},
   "outputs": [],
   "source": [
    "loan_query = '''\n",
    "select account.account_id, disp_O.client_id as owner_client_id, disp_O.disp_id as owner_disp_id, \n",
    "        disp_num.num_acct_users, client.birth_date as owner_birth_date, account.frequency as statement_freq, \n",
    "        card.type as card_type, card.issued as card_issue_date, account.date as acct_start_date, loan.loan_id, \n",
    "        loan.date as loan_date, loan.amount as loan_amt, payments.total_paid, loan.duration as loan_duration_mos, \n",
    "        payments.total_payments, loan.payments as monthly_payments, loan.status as loan_status, \n",
    "        account.district_id, district.A2, district.A3, district.A4, district.A5, district.A6, district.A7, \n",
    "        district.A8, district.A9, district.A10, district.A11, district.A12, district.A13, district.A14, \n",
    "        district.A15, district.A16\n",
    "from loan\n",
    "left join account on loan.account_id = account.account_id\n",
    "left join district on account.district_id = district.district_id\n",
    "left join (select account_id, sum(amount) as total_paid, count(date) as total_payments\n",
    "            from financial.trans\n",
    "            where k_symbol like 'UVER'\n",
    "            group by account_id) as payments on account.account_id = payments.account_id\n",
    "left join (select * from disp\n",
    "            where disp.type like 'O%') as disp_O on loan.account_id = disp_O.account_id\n",
    "left join client on disp_O.client_id = client.client_id\n",
    "left join card on disp_O.disp_id = card.disp_id\n",
    "left join (select account_id, count(client_id) as num_acct_users\n",
    "            from disp\n",
    "            group by account_id) as disp_num on loan.account_id = disp_num.account_id;'''"
   ]
  },
  {
   "cell_type": "code",
   "execution_count": 4,
   "metadata": {},
   "outputs": [],
   "source": [
    "account_query = '''\n",
    "select account.account_id, disp_O.client_id as owner_client_id, disp_O.disp_id as owner_disp_id, \n",
    "        disp_num.num_acct_users, client.birth_date as owner_birth_date, account.frequency as statement_freq, \n",
    "        card.type as card_type, card.issued as card_issue_date, account.date as acct_start_date, \n",
    "        account.district_id, district.A2, district.A3, district.A4, district.A5, district.A6, district.A7, \n",
    "        district.A8, district.A9, district.A10, district.A11, district.A12, district.A13, district.A14, \n",
    "        district.A15, district.A16\n",
    "from account\n",
    "left join district on account.district_id = district.district_id\n",
    "left join (select * from disp\n",
    "            where disp.type like 'O%') as disp_O on account.account_id = disp_O.account_id\n",
    "left join client on disp_O.client_id = client.client_id\n",
    "left join card on disp_O.disp_id = card.disp_id\n",
    "left join (select account_id, count(client_id) as num_acct_users\n",
    "            from disp\n",
    "            group by account_id) as disp_num on account.account_id = disp_num.account_id;'''"
   ]
  },
  {
   "cell_type": "code",
   "execution_count": 5,
   "metadata": {},
   "outputs": [],
   "source": [
    "payments_query = '''\n",
    "select account_id, k_symbol, count(trans_id), sum(amount) \n",
    "from financial.trans\n",
    "where k_symbol like 'POJISTNE' or k_symbol like 'UVER' or k_symbol like 'SIPO' or k_symbol like 'LEASING'\n",
    "group by account_id, k_symbol;\n",
    "'''"
   ]
  },
  {
   "cell_type": "code",
   "execution_count": 6,
   "metadata": {},
   "outputs": [],
   "source": [
    "loan_df = pd.read_sql(loan_query, conn)"
   ]
  },
  {
   "cell_type": "code",
   "execution_count": 8,
   "metadata": {},
   "outputs": [],
   "source": [
    "account_df = pd.read_sql(account_query, conn)"
   ]
  },
  {
   "cell_type": "code",
   "execution_count": 9,
   "metadata": {},
   "outputs": [],
   "source": [
    "payment_df = pd.read_sql(payments_query, conn)"
   ]
  },
  {
   "cell_type": "code",
   "execution_count": 10,
   "metadata": {},
   "outputs": [],
   "source": [
    "# close connection after you get what you want\n",
    "conn.close()"
   ]
  },
  {
   "cell_type": "code",
   "execution_count": 11,
   "metadata": {},
   "outputs": [],
   "source": [
    "loan_df.to_csv('loan_info.csv', index=False)\n",
    "account_df.to_csv('account_info.csv', index=False)\n",
    "payment_df.to_csv('payment_info.csv', index=False)"
   ]
  }
 ],
 "metadata": {
  "kernelspec": {
   "display_name": "Python 3",
   "language": "python",
   "name": "python3"
  },
  "language_info": {
   "codemirror_mode": {
    "name": "ipython",
    "version": 3
   },
   "file_extension": ".py",
   "mimetype": "text/x-python",
   "name": "python",
   "nbconvert_exporter": "python",
   "pygments_lexer": "ipython3",
   "version": "3.6.9"
  }
 },
 "nbformat": 4,
 "nbformat_minor": 4
}
